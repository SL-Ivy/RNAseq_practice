{
  "nbformat": 4,
  "nbformat_minor": 0,
  "metadata": {
    "colab": {
      "provenance": [],
      "private_outputs": true,
      "toc_visible": true,
      "include_colab_link": true
    },
    "kernelspec": {
      "name": "python3",
      "display_name": "Python 3"
    },
    "language_info": {
      "name": "python"
    }
  },
  "cells": [
    {
      "cell_type": "markdown",
      "metadata": {
        "id": "view-in-github",
        "colab_type": "text"
      },
      "source": [
        "<a href=\"https://colab.research.google.com/github/SL-Ivy/RNAseq_practice/blob/main/micm_workshop_introduction_to_gwas_and_prs.ipynb\" target=\"_parent\"><img src=\"https://colab.research.google.com/assets/colab-badge.svg\" alt=\"Open In Colab\"/></a>"
      ]
    },
    {
      "cell_type": "markdown",
      "source": [
        "# Part 1: Introduction to GWAS\n",
        "\n",
        "In this section, we will perform the basic steps for interpreting GWAS summary statistics."
      ],
      "metadata": {
        "id": "4yqvq1Jjg7MM"
      }
    },
    {
      "cell_type": "markdown",
      "source": [
        "## Load GWAS summary statistics\n",
        "\n",
        "Here, we are using the summary statistics for [coronary artery disease (CAD)](https://pubmed.ncbi.nlm.nih.gov/29212778/) from van der Harst et al. (2018). We will use these same summary statistics to compute the polygenic risk for CAD across a cohort in Part 2."
      ],
      "metadata": {
        "id": "LrVkNrfOjPWs"
      }
    },
    {
      "cell_type": "code",
      "source": [
        "# Load GWAS summary statistics\n",
        "!gdown --id 1tgLX51-EShA4ZwroxTbjoNhbvsxc2V-y\n",
        "!head raw_cad_gwas_sum_stats"
      ],
      "metadata": {
        "id": "jldCge-hsTn6"
      },
      "execution_count": null,
      "outputs": []
    },
    {
      "cell_type": "markdown",
      "source": [
        "## Count and plot the number of SNPs at different p-value thresholds\n",
        "\n",
        "As an exercise, we want to see how many SNPs reach different p-value thresholds. We refer to genome-wide significance threshold as equal to `0.05 / # of SNPs across the genome`.\n",
        "\n",
        "If there are approximately 1 million independent regions in the genome, then the genome-wide significant p-value threshold is equal to `0.05 / 1 million = 5e-8`."
      ],
      "metadata": {
        "id": "9h7J7wPc0eYx"
      }
    },
    {
      "cell_type": "code",
      "source": [
        "import pandas as pd\n",
        "import matplotlib.pyplot as plt\n",
        "import numpy as np\n",
        "\n",
        "sum_stats = pd.read_csv(\"raw_cad_gwas_sum_stats\", delim_whitespace=True)\n",
        "\n",
        "# Define the thresholds\n",
        "thresholds = [1e-4, 1e-5, 1e-6, 5e-8]\n",
        "\n",
        "# Count the number of SNPs below each threshold\n",
        "counts = [np.sum(sum_stats['pval'] < threshold) for threshold in thresholds]\n",
        "\n",
        "# Create the bar plot\n",
        "plt.figure(figsize=(10, 6))\n",
        "plt.bar([str(thresh) for thresh in thresholds], counts, color='blue')\n",
        "\n",
        "# Add labels and title\n",
        "plt.xlabel('P-value Thresholds')\n",
        "plt.ylabel('Number of SNPs')\n",
        "plt.title('Number of SNPs at Different P-value Thresholds')\n",
        "plt.legend()\n",
        "\n",
        "# Show the plot\n",
        "plt.show()"
      ],
      "metadata": {
        "id": "h50JEbqMybXI"
      },
      "execution_count": null,
      "outputs": []
    },
    {
      "cell_type": "markdown",
      "source": [
        "# Part 2: Introduction to polygenic risk score\n",
        "\n",
        "In this section, we will perform the basic steps for computing polygenic risk scores (PRSs)."
      ],
      "metadata": {
        "id": "gbCSVdAScwlc"
      }
    },
    {
      "cell_type": "markdown",
      "source": [
        "## Set up command-line environment\n",
        "\n",
        "We download PLINK because we will use it to:\n",
        "* Process and QC the genotype data (.bim, .fam, .bed files).\n",
        "* Compute individual-level polygenic risk scores"
      ],
      "metadata": {
        "id": "KfFlKdgUiieG"
      }
    },
    {
      "cell_type": "code",
      "source": [
        "%%capture\n",
        "# Download PLINK2\n",
        "!wget -qO- https://s3.amazonaws.com/plink2-assets/plink2_linux_x86_64_latest.zip > plink2.zip\n",
        "!unzip -q plink2.zip\n",
        "!mv plink2 /usr/local/bin/\n",
        "!plink2 --version"
      ],
      "metadata": {
        "id": "cqQnLCdQVABr"
      },
      "execution_count": null,
      "outputs": []
    },
    {
      "cell_type": "markdown",
      "source": [
        "## Load individual-level genotype data\n",
        "\n",
        "We are using a subset of the genotyped data from the [1000 Genomes Project](https://www.internationalgenome.org/data). These data are aligned to the hg19 reference genome.\n",
        "\n",
        "We load the data from a directory in Google Drive."
      ],
      "metadata": {
        "id": "F-oNsEcAeA5m"
      }
    },
    {
      "cell_type": "code",
      "source": [
        "!gdown 1s_5XroEhHM5uc_brlZGKZbmwPutM6Td-\n",
        "!unzip EUR.zip"
      ],
      "metadata": {
        "id": "jJaz9FkcKWgS"
      },
      "execution_count": null,
      "outputs": []
    },
    {
      "cell_type": "markdown",
      "source": [
        "## Update PLINK files with mock phenotype data\n",
        "\n",
        "We randomly assign binary phenotypes to each sample to represent whether they have a diagnosis of coronary artery disease (CAD)."
      ],
      "metadata": {
        "id": "fNCavDMmegyi"
      }
    },
    {
      "cell_type": "code",
      "source": [
        "# Load the mock phenotype data for the samples\n",
        "!gdown 1cclXWTnzkbxAoYwmiC1phihS3seDBTyp\n",
        "!head CAD_phenotypes.txt\n",
        "\n",
        "!plink2 --bfile EUR \\\n",
        "        --pheno CAD_phenotypes.txt \\\n",
        "        --make-bed \\\n",
        "        --out CAD_case_control"
      ],
      "metadata": {
        "id": "sUT0w5ltdyOi"
      },
      "execution_count": null,
      "outputs": []
    },
    {
      "cell_type": "markdown",
      "source": [
        "## Count the number of alleles and allele frequencies across samples\n",
        "\n",
        "This step provides us with the allele frequency information for the variants across our samples. We perform this step to get a better sense of the distribution of allele frequencies prior to QC.\n",
        "\n",
        "The red dashed line represents a minor allele frequency (MAF) of 0.01. This is the standard MAF cutoff that is used for QC'ing genotype data prior to computing PRS."
      ],
      "metadata": {
        "id": "ojMVEqGwjzNY"
      }
    },
    {
      "cell_type": "code",
      "source": [
        "!plink2 --bfile CAD_case_control \\\n",
        "        --freq \\\n",
        "        --out frequency_counts"
      ],
      "metadata": {
        "id": "NM52KWDsfM8d"
      },
      "execution_count": null,
      "outputs": []
    },
    {
      "cell_type": "code",
      "source": [
        "import pandas as pd\n",
        "import matplotlib.pyplot as plt\n",
        "\n",
        "# Read the .afreq file into a pandas DataFrame\n",
        "afreq_df = pd.read_csv(\"frequency_counts.afreq\", delim_whitespace=True)\n",
        "\n",
        "# Display the first few rows of the DataFrame\n",
        "print(afreq_df.head())\n",
        "\n",
        "plt.figure(figsize=(10, 6))\n",
        "plt.hist(afreq_df['ALT_FREQS'], bins=50, edgecolor='k', alpha=0.7)\n",
        "plt.axvline(x=0.01, color='red', linestyle='--', linewidth=1.5, label='MAF 0.01')\n",
        "\n",
        "plt.xlabel('Alternative Allele Frequency')\n",
        "plt.ylabel('Number of Variants')\n",
        "plt.title('Distribution of Alternative Allele Frequencies')\n",
        "plt.grid(True)\n",
        "plt.legend()\n",
        "plt.show()"
      ],
      "metadata": {
        "id": "xe4Em1XbgVKS"
      },
      "execution_count": null,
      "outputs": []
    },
    {
      "cell_type": "markdown",
      "source": [
        "## QC the individual-level genotyping data\n",
        "\n",
        "Prior to computing PRS, we want to make sure that the genotyping data only includes high-quality common variants.\n",
        "\n",
        "The standard QC filtering criteria is as follow, based on xxx:\n",
        "* ` --maf 0.01` : Filters SNPs to include only those with a minor allele frequency (MAF) above 0.01.\n",
        "*` --geno 0.1 ` : Excludes SNPs with missing call rates exceeding 0.1.\n",
        "* `--hwe 0.0001` : Excludes SNPs with Hardy-Weinberg equilibrium p-values below 0.0001. We test to see if the SNP is in equilibrium within the population.\n",
        "* `--make-bed` : Output will be in PLINK (.bed, .bim, .fam) format\n"
      ],
      "metadata": {
        "id": "RpesCMO9gsTI"
      }
    },
    {
      "cell_type": "code",
      "source": [
        "# Perform initial filtering by MAF, SNP call rate, exclude specific SNPs, and keep specific samples\n",
        "\n",
        "!plink2 --bfile CAD_case_control \\\n",
        "--maf 0.01 \\\n",
        "--geno 0.1 \\\n",
        "--hwe 0.0001 \\\n",
        "--make-bed \\\n",
        "--out CAD_maf-0.01_geno-0.1_hwe-1e4\n",
        "\n",
        "# Perform LD pruning in two steps:\n",
        "# Step 1: Generate list of SNPs to keep\n",
        "# We perform linkage disequilibrium (LD) pruning using:\n",
        "  # - a window size of 50 SNPs\n",
        "  # - a step size of 5 SNPs\n",
        "  # - r2 threshold of 0.2 (correlation between SNPs)\n",
        "!plink2 --bfile CAD_maf-0.01_geno-0.1_hwe-1e4 \\\n",
        "       --indep-pairwise 50 5 0.2 \\\n",
        "       --out ld_pruned\n",
        "\n",
        "# Step 2: Apply LD pruning\n",
        "!plink2 --bfile CAD_maf-0.01_geno-0.1_hwe-1e4 \\\n",
        "       --extract ld_pruned.prune.in \\\n",
        "       --make-bed \\\n",
        "       --out CAD_EUR_QCed"
      ],
      "metadata": {
        "id": "ReuKRUcTAhJw"
      },
      "execution_count": null,
      "outputs": []
    },
    {
      "cell_type": "markdown",
      "source": [
        "## Run PRS-CS to better estimate the effect of SNPs on the trait.\n",
        "\n",
        "Install dependencies needed for [PRS-CS](https://github.com/getian107/PRScs).\n",
        "\n",
        "* PRS-CS is a statistical method that is used to estimate the effect sizes of SNPs based on linkage disequilibrium (LD) and the individual-level genotype data for your target sample.\n",
        "* PRS-CS provides us with more accurate effect size estimates for the GWAS summary statistic SNPs.\n",
        "* We perform PRS-CS before computing the individual-level polygenic risk scores.\n",
        "\n",
        "This is an important – yet, computationally-expensive step. In this workshop, we will use the pre-computed SNP effect size estimates from PRS-CS.\n",
        "\n",
        "To perform PRS-CS, you can follow these steps on the command line:\n",
        "\n",
        "```\n",
        "# Clone the PRS-CS repository\n",
        "!git clone https://github.com/getian107/PRScs.git\n",
        "\n",
        "# Navigate to the PRS-CS directory\n",
        "%cd PRScs\n",
        "\n",
        "# Download the pre-trained LD reference panels\n",
        "!wget https://personal.broadinstitute.org/hhuang//public/PRS-CSx/Reference/1KG/ldblk_1kg_eur.tar.gz\n",
        "\n",
        "# Extract the downloaded files\n",
        "!tar -xzvf ldblk_1kg_eur.tar.gz\n",
        "\n",
        "# Compute PRS-CS to provide accurate SNP effect sizes ahead of individual-level PRS calculation\n",
        "!python PRScs.py \\\n",
        "        --ref_dir=/PRScs/ldblk_1kg_eur \\\n",
        "        --bim_prefix=[prefix of the QCed PLINK file] \\\n",
        "        --sst_file=[GWAS summary statistics file] \\\n",
        "        --n_gwas=[# of individuals included in GWAS] \\\n",
        "        --out_dir=[path]/[output_prefix]\n",
        "\n",
        "# PRS-CS will output the SNP effect sizes for each chromosome separately\n",
        "# To concatenate all chromosome files:\n",
        "cat [output_prefix]_pst_eff_a1_b0.5_phiauto_chr*.txt | sort -n -k1 > [output_prefix]_pst_eff_a1_b0.5_phiauto_allchr.txt\n",
        "\n",
        "# Prepare the output of PRScs so that it can be used by PLINK\n",
        "# We will use this output to generate individual-level scores for our samples an allelic scoring system involving one or more SNPs.\n",
        "\n",
        "awk '{print $2, $4, $6}' \\\n",
        "[output_prefix]_pst_eff_a1_b0.5_phiauto_allchr.txt | \\\n",
        "sed 's/ /\\t/g' > [output_prefix]_pst_eff_a1_b0.5_phiauto_allchr.PLINKscore\n",
        "```"
      ],
      "metadata": {
        "id": "eRRhH6d2HToo"
      }
    },
    {
      "cell_type": "markdown",
      "source": [
        "## Load the output of PRS-CS\n",
        "\n",
        "We load the pre-computed output of PRS-CS. This file was computed using the steps outlined above and it provides us with the effect size of SNPs on CAD risk. This file is formattted to be used as an input for PLINK.\n",
        "\n",
        "The `score` columns are:\n",
        "* SNP ID\n",
        "* Reference allele\n",
        "* Score (numeric), which represent the effect of each SNP on CAD risk"
      ],
      "metadata": {
        "id": "kOOwINoMRaxn"
      }
    },
    {
      "cell_type": "code",
      "source": [
        "# Load PRScs output\n",
        "!gdown --id 1X83iPlOSEAkrBvEwL1ab4m9FCj37I4_y # access file from Google Drive\n",
        "!head CAD_EUR_pst_eff_a1_b0.5_phiauto_allchr.PLINKscore"
      ],
      "metadata": {
        "id": "D0QpaWP4lnTB"
      },
      "execution_count": null,
      "outputs": []
    },
    {
      "cell_type": "markdown",
      "source": [
        "## Compute individual-level polygenic risk score for CAD\n",
        "\n",
        "We use the output of PRS-CS as the `score` parameter in PLINK to give us the accurate allelic scores for the SNPs. The output of this command is an individual-level PRS for CAD (`score`)."
      ],
      "metadata": {
        "id": "pu8M_fWbSdjH"
      }
    },
    {
      "cell_type": "code",
      "source": [
        "# Run PLINK2 to calculate PRS\n",
        "\n",
        "!plink2 \\\n",
        "    --bfile CAD_EUR_QCed \\\n",
        "    --pheno CAD_phenotypes.txt \\\n",
        "    --score CAD_EUR_pst_eff_a1_b0.5_phiauto_allchr.PLINKscore \\\n",
        "    --out prs_for_cad\n",
        "\n",
        "!head prs_for_cad.sscore"
      ],
      "metadata": {
        "id": "ybPRQOZXarRY"
      },
      "execution_count": null,
      "outputs": []
    },
    {
      "cell_type": "markdown",
      "source": [
        "## Comparing the PRS for CAD between cases and controls\n",
        "\n",
        "Now that we have the PRS-CAD for each sample, we can compare the difference in PRS between cases and controls.\n",
        "\n",
        "However, first, we scale the `SCORE1_AVG` to the mean. Now, the individual-level PRS for CAD (`SCORE1_AVG_SCALED`) denotes the number of standard deviations that the person is from the average PRS of the sample. We do this to make it easier to interpret the PRS value.\n",
        "\n",
        "Next, we perform a simple t-test to compare the mean PRS-CAD between cases and controls. If the mean PRS-CAD is significantly different, then the `p_val < 0.05`.\n",
        "\n",
        "In our example, we find that the mean PRS-CAD in cases is `-0.0141`, and the mean PRS-CAD for controls is `0.0146`. The p-value of the t-test is ≥ 0.05, so we conclude that there is no significant difference in mean PRS-CAD between cases and controls."
      ],
      "metadata": {
        "id": "UrcZPDTmTjjT"
      }
    },
    {
      "cell_type": "code",
      "source": [
        "import pandas as pd\n",
        "import matplotlib.pyplot as plt\n",
        "import seaborn as sns\n",
        "from scipy.stats import ttest_ind\n",
        "from sklearn.preprocessing import StandardScaler\n",
        "\n",
        "# Load the data into a DataFrame\n",
        "file_path = \"prs_for_cad.sscore\"  # Update the path as needed\n",
        "df = pd.read_csv(file_path, delim_whitespace=True)\n",
        "\n",
        "# Ensure the Phenotype is binary (0 for control, 1 for case)\n",
        "df['Phenotype'] = df['Phenotype'].apply(lambda x: 1 if x == 2 else 0).astype(int)\n",
        "\n",
        "# Standardize the SCORE1_AVG values\n",
        "scaler = StandardScaler()\n",
        "df['SCORE1_AVG_SCALED'] = scaler.fit_transform(df[['SCORE1_AVG']])\n",
        "\n",
        "# Split the data into cases and controls\n",
        "cases = df[df['Phenotype'] == 1]['SCORE1_AVG_SCALED']\n",
        "controls = df[df['Phenotype'] == 0]['SCORE1_AVG_SCALED']\n",
        "\n",
        "# Calculate the mean SCORE1_AVG for cases and controls\n",
        "mean_cases = df[df['Phenotype'] == 1]['SCORE1_AVG_SCALED'].mean()\n",
        "mean_controls = df[df['Phenotype'] == 0]['SCORE1_AVG_SCALED'].mean()\n",
        "\n",
        "print(f\"Mean SCORE1_AVG for cases: {mean_cases}\")\n",
        "print(f\"Mean SCORE1_AVG for controls: {mean_controls}\")\n",
        "\n",
        "# Perform t-test\n",
        "t_stat, p_val = ttest_ind(cases, controls)\n",
        "print(f\"t-statistic: {t_stat}, p-value: {p_val}\")\n",
        "\n",
        "# Set the plot style\n",
        "sns.set(style=\"white\")\n",
        "\n",
        "# Create a box plot to view the distribution of PRS\n",
        "plt.figure(figsize=(10, 6))\n",
        "ax = sns.boxplot(x=\"Phenotype\", y=\"SCORE1_AVG_SCALED\", data=df, hue=\"Phenotype\", palette=\"Set2\", legend=False)\n",
        "\n",
        "# Add annotation for the p-value\n",
        "x1, x2 = 0, 1  # x-coordinates for controls and cases\n",
        "y, h, col = df['SCORE1_AVG_SCALED'].max() + 0.1, 0.05, 'k'\n",
        "plt.plot([x1, x1, x2, x2], [y, y + h, y + h, y], lw=1.5, color=col)\n",
        "plt.text((x1 + x2) * .5, y + h, f\"p = {p_val:.3e}\", ha='center', va='bottom', color=col)\n",
        "\n",
        "plt.title('Distribution of scaled polygenic risk for CAD')\n",
        "plt.xlabel('CAD diagnosis')\n",
        "plt.ylabel('Polygenic risk for CAD')\n",
        "plt.xticks([0, 1], ['Control', 'Case'])\n",
        "plt.show()"
      ],
      "metadata": {
        "id": "gjVsoM1kWDFE"
      },
      "execution_count": null,
      "outputs": []
    }
  ]
}